{
 "cells": [
  {
   "cell_type": "code",
   "execution_count": 1,
   "id": "3c960f8a",
   "metadata": {},
   "outputs": [
    {
     "name": "stderr",
     "output_type": "stream",
     "text": [
      "C:\\Users\\15047\\AppData\\Local\\Temp/ipykernel_39596/1735900987.py:11: FutureWarning: pandas.io.json.json_normalize is deprecated, use pandas.json_normalize instead\n",
      "  flattened_data = json_normalize(data['items'], sep='_')\n"
     ]
    }
   ],
   "source": [
    "import json\n",
    "import pandas as pd\n",
    "from pandas.io.json import json_normalize\n",
    "\n",
    "# Step 1: Load the JSON file\n",
    "with open('card_data.json', 'r') as file:\n",
    "    data = json.load(file)\n",
    "\n",
    "# Step 2: Flatten the JSON structure\n",
    "# Assuming the structure is as you described, with a key 'items'\n",
    "flattened_data = json_normalize(data['items'], sep='_')\n",
    "\n",
    "# Step 3: Convert to DataFrame\n",
    "df = pd.DataFrame(flattened_data)\n",
    "\n",
    "# Step 4: Export to CSV\n",
    "df.to_csv('card_data.csv', index=False)\n",
    "\n"
   ]
  }
 ],
 "metadata": {
  "kernelspec": {
   "display_name": "Python 3 (ipykernel)",
   "language": "python",
   "name": "python3"
  },
  "language_info": {
   "codemirror_mode": {
    "name": "ipython",
    "version": 3
   },
   "file_extension": ".py",
   "mimetype": "text/x-python",
   "name": "python",
   "nbconvert_exporter": "python",
   "pygments_lexer": "ipython3",
   "version": "3.9.7"
  }
 },
 "nbformat": 4,
 "nbformat_minor": 5
}
